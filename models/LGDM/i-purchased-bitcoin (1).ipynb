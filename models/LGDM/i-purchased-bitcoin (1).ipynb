{
 "cells": [
  {
   "cell_type": "markdown",
   "id": "ae23dd85",
   "metadata": {
    "papermill": {
     "duration": 0.011852,
     "end_time": "2021-11-11T14:32:54.127259",
     "exception": false,
     "start_time": "2021-11-11T14:32:54.115407",
     "status": "completed"
    },
    "tags": []
   },
   "source": [
    "**Parent kernal [link ](https://www.kaggle.com/julian3833/g-research-starter-lgbm-pipeline-lb)**\n",
    "\n",
    "**changes n_estimators=1000,num_leaves=500,max_depth=10**"
   ]
  },
  {
   "cell_type": "code",
   "execution_count": 1,
   "id": "8f2521e9",
   "metadata": {
    "execution": {
     "iopub.execute_input": "2021-11-11T14:32:54.155004Z",
     "iopub.status.busy": "2021-11-11T14:32:54.154227Z",
     "iopub.status.idle": "2021-11-11T14:32:56.916702Z",
     "shell.execute_reply": "2021-11-11T14:32:56.917354Z",
     "shell.execute_reply.started": "2021-11-11T14:00:20.500945Z"
    },
    "papermill": {
     "duration": 2.781281,
     "end_time": "2021-11-11T14:32:56.917645",
     "exception": false,
     "start_time": "2021-11-11T14:32:54.136364",
     "status": "completed"
    },
    "tags": []
   },
   "outputs": [
    {
     "data": {
      "text/html": [
       "<style type='text/css'>\n",
       ".datatable table.frame { margin-bottom: 0; }\n",
       ".datatable table.frame thead { border-bottom: none; }\n",
       ".datatable table.frame tr.coltypes td {  color: #FFFFFF;  line-height: 6px;  padding: 0 0.5em;}\n",
       ".datatable .bool    { background: #DDDD99; }\n",
       ".datatable .object  { background: #565656; }\n",
       ".datatable .int     { background: #5D9E5D; }\n",
       ".datatable .float   { background: #4040CC; }\n",
       ".datatable .str     { background: #CC4040; }\n",
       ".datatable .time    { background: #40CC40; }\n",
       ".datatable .row_index {  background: var(--jp-border-color3);  border-right: 1px solid var(--jp-border-color0);  color: var(--jp-ui-font-color3);  font-size: 9px;}\n",
       ".datatable .frame tbody td { text-align: left; }\n",
       ".datatable .frame tr.coltypes .row_index {  background: var(--jp-border-color0);}\n",
       ".datatable th:nth-child(2) { padding-left: 12px; }\n",
       ".datatable .hellipsis {  color: var(--jp-cell-editor-border-color);}\n",
       ".datatable .vellipsis {  background: var(--jp-layout-color0);  color: var(--jp-cell-editor-border-color);}\n",
       ".datatable .na {  color: var(--jp-cell-editor-border-color);  font-size: 80%;}\n",
       ".datatable .sp {  opacity: 0.25;}\n",
       ".datatable .footer { font-size: 9px; }\n",
       ".datatable .frame_dimensions {  background: var(--jp-border-color3);  border-top: 1px solid var(--jp-border-color0);  color: var(--jp-ui-font-color3);  display: inline-block;  opacity: 0.6;  padding: 1px 10px 1px 5px;}\n",
       "</style>\n"
      ],
      "text/plain": [
       "<IPython.core.display.HTML object>"
      ]
     },
     "metadata": {},
     "output_type": "display_data"
    }
   ],
   "source": [
    "import pandas as pd\n",
    "import numpy as np\n",
    "from lightgbm import LGBMRegressor\n",
    "import gresearch_crypto\n",
    "\n",
    "\n",
    "TRAIN_CSV = '/kaggle/input/g-research-crypto-forecasting/train.csv'\n",
    "ASSET_DETAILS_CSV = '/kaggle/input/g-research-crypto-forecasting/asset_details.csv'"
   ]
  },
  {
   "cell_type": "code",
   "execution_count": 2,
   "id": "1b4a8520",
   "metadata": {
    "execution": {
     "iopub.execute_input": "2021-11-11T14:32:56.940146Z",
     "iopub.status.busy": "2021-11-11T14:32:56.939556Z",
     "iopub.status.idle": "2021-11-11T14:34:06.870017Z",
     "shell.execute_reply": "2021-11-11T14:34:06.870495Z",
     "shell.execute_reply.started": "2021-11-11T14:00:20.507941Z"
    },
    "papermill": {
     "duration": 69.943376,
     "end_time": "2021-11-11T14:34:06.870673",
     "exception": false,
     "start_time": "2021-11-11T14:32:56.927297",
     "status": "completed"
    },
    "tags": []
   },
   "outputs": [
    {
     "data": {
      "text/html": [
       "<div>\n",
       "<style scoped>\n",
       "    .dataframe tbody tr th:only-of-type {\n",
       "        vertical-align: middle;\n",
       "    }\n",
       "\n",
       "    .dataframe tbody tr th {\n",
       "        vertical-align: top;\n",
       "    }\n",
       "\n",
       "    .dataframe thead th {\n",
       "        text-align: right;\n",
       "    }\n",
       "</style>\n",
       "<table border=\"1\" class=\"dataframe\">\n",
       "  <thead>\n",
       "    <tr style=\"text-align: right;\">\n",
       "      <th></th>\n",
       "      <th>timestamp</th>\n",
       "      <th>Asset_ID</th>\n",
       "      <th>Count</th>\n",
       "      <th>Open</th>\n",
       "      <th>High</th>\n",
       "      <th>Low</th>\n",
       "      <th>Close</th>\n",
       "      <th>Volume</th>\n",
       "      <th>VWAP</th>\n",
       "      <th>Target</th>\n",
       "    </tr>\n",
       "  </thead>\n",
       "  <tbody>\n",
       "    <tr>\n",
       "      <th>0</th>\n",
       "      <td>1514764860</td>\n",
       "      <td>2</td>\n",
       "      <td>40.0</td>\n",
       "      <td>2376.5800</td>\n",
       "      <td>2399.5000</td>\n",
       "      <td>2357.1400</td>\n",
       "      <td>2374.5900</td>\n",
       "      <td>19.233005</td>\n",
       "      <td>2373.116392</td>\n",
       "      <td>-0.004218</td>\n",
       "    </tr>\n",
       "    <tr>\n",
       "      <th>1</th>\n",
       "      <td>1514764860</td>\n",
       "      <td>0</td>\n",
       "      <td>5.0</td>\n",
       "      <td>8.5300</td>\n",
       "      <td>8.5300</td>\n",
       "      <td>8.5300</td>\n",
       "      <td>8.5300</td>\n",
       "      <td>78.380000</td>\n",
       "      <td>8.530000</td>\n",
       "      <td>-0.014399</td>\n",
       "    </tr>\n",
       "    <tr>\n",
       "      <th>2</th>\n",
       "      <td>1514764860</td>\n",
       "      <td>1</td>\n",
       "      <td>229.0</td>\n",
       "      <td>13835.1940</td>\n",
       "      <td>14013.8000</td>\n",
       "      <td>13666.1100</td>\n",
       "      <td>13850.1760</td>\n",
       "      <td>31.550062</td>\n",
       "      <td>13827.062093</td>\n",
       "      <td>-0.014643</td>\n",
       "    </tr>\n",
       "    <tr>\n",
       "      <th>3</th>\n",
       "      <td>1514764860</td>\n",
       "      <td>5</td>\n",
       "      <td>32.0</td>\n",
       "      <td>7.6596</td>\n",
       "      <td>7.6596</td>\n",
       "      <td>7.6567</td>\n",
       "      <td>7.6576</td>\n",
       "      <td>6626.713370</td>\n",
       "      <td>7.657713</td>\n",
       "      <td>-0.013922</td>\n",
       "    </tr>\n",
       "    <tr>\n",
       "      <th>4</th>\n",
       "      <td>1514764860</td>\n",
       "      <td>7</td>\n",
       "      <td>5.0</td>\n",
       "      <td>25.9200</td>\n",
       "      <td>25.9200</td>\n",
       "      <td>25.8740</td>\n",
       "      <td>25.8770</td>\n",
       "      <td>121.087310</td>\n",
       "      <td>25.891363</td>\n",
       "      <td>-0.008264</td>\n",
       "    </tr>\n",
       "  </tbody>\n",
       "</table>\n",
       "</div>"
      ],
      "text/plain": [
       "    timestamp  Asset_ID  Count        Open        High         Low  \\\n",
       "0  1514764860         2   40.0   2376.5800   2399.5000   2357.1400   \n",
       "1  1514764860         0    5.0      8.5300      8.5300      8.5300   \n",
       "2  1514764860         1  229.0  13835.1940  14013.8000  13666.1100   \n",
       "3  1514764860         5   32.0      7.6596      7.6596      7.6567   \n",
       "4  1514764860         7    5.0     25.9200     25.9200     25.8740   \n",
       "\n",
       "        Close       Volume          VWAP    Target  \n",
       "0   2374.5900    19.233005   2373.116392 -0.004218  \n",
       "1      8.5300    78.380000      8.530000 -0.014399  \n",
       "2  13850.1760    31.550062  13827.062093 -0.014643  \n",
       "3      7.6576  6626.713370      7.657713 -0.013922  \n",
       "4     25.8770   121.087310     25.891363 -0.008264  "
      ]
     },
     "execution_count": 2,
     "metadata": {},
     "output_type": "execute_result"
    }
   ],
   "source": [
    "df_train = pd.read_csv(TRAIN_CSV)\n",
    "df_train.head()"
   ]
  },
  {
   "cell_type": "code",
   "execution_count": 3,
   "id": "5547a9cb",
   "metadata": {
    "execution": {
     "iopub.execute_input": "2021-11-11T14:34:06.893995Z",
     "iopub.status.busy": "2021-11-11T14:34:06.893480Z",
     "iopub.status.idle": "2021-11-11T14:34:06.915102Z",
     "shell.execute_reply": "2021-11-11T14:34:06.915591Z",
     "shell.execute_reply.started": "2021-11-11T14:00:54.406404Z"
    },
    "papermill": {
     "duration": 0.035398,
     "end_time": "2021-11-11T14:34:06.915734",
     "exception": false,
     "start_time": "2021-11-11T14:34:06.880336",
     "status": "completed"
    },
    "tags": []
   },
   "outputs": [
    {
     "data": {
      "text/html": [
       "<div>\n",
       "<style scoped>\n",
       "    .dataframe tbody tr th:only-of-type {\n",
       "        vertical-align: middle;\n",
       "    }\n",
       "\n",
       "    .dataframe tbody tr th {\n",
       "        vertical-align: top;\n",
       "    }\n",
       "\n",
       "    .dataframe thead th {\n",
       "        text-align: right;\n",
       "    }\n",
       "</style>\n",
       "<table border=\"1\" class=\"dataframe\">\n",
       "  <thead>\n",
       "    <tr style=\"text-align: right;\">\n",
       "      <th></th>\n",
       "      <th>Asset_ID</th>\n",
       "      <th>Weight</th>\n",
       "      <th>Asset_Name</th>\n",
       "    </tr>\n",
       "  </thead>\n",
       "  <tbody>\n",
       "    <tr>\n",
       "      <th>1</th>\n",
       "      <td>0</td>\n",
       "      <td>4.304065</td>\n",
       "      <td>Binance Coin</td>\n",
       "    </tr>\n",
       "    <tr>\n",
       "      <th>2</th>\n",
       "      <td>1</td>\n",
       "      <td>6.779922</td>\n",
       "      <td>Bitcoin</td>\n",
       "    </tr>\n",
       "    <tr>\n",
       "      <th>0</th>\n",
       "      <td>2</td>\n",
       "      <td>2.397895</td>\n",
       "      <td>Bitcoin Cash</td>\n",
       "    </tr>\n",
       "    <tr>\n",
       "      <th>10</th>\n",
       "      <td>3</td>\n",
       "      <td>4.406719</td>\n",
       "      <td>Cardano</td>\n",
       "    </tr>\n",
       "    <tr>\n",
       "      <th>13</th>\n",
       "      <td>4</td>\n",
       "      <td>3.555348</td>\n",
       "      <td>Dogecoin</td>\n",
       "    </tr>\n",
       "    <tr>\n",
       "      <th>3</th>\n",
       "      <td>5</td>\n",
       "      <td>1.386294</td>\n",
       "      <td>EOS.IO</td>\n",
       "    </tr>\n",
       "    <tr>\n",
       "      <th>5</th>\n",
       "      <td>6</td>\n",
       "      <td>5.894403</td>\n",
       "      <td>Ethereum</td>\n",
       "    </tr>\n",
       "    <tr>\n",
       "      <th>4</th>\n",
       "      <td>7</td>\n",
       "      <td>2.079442</td>\n",
       "      <td>Ethereum Classic</td>\n",
       "    </tr>\n",
       "    <tr>\n",
       "      <th>11</th>\n",
       "      <td>8</td>\n",
       "      <td>1.098612</td>\n",
       "      <td>IOTA</td>\n",
       "    </tr>\n",
       "    <tr>\n",
       "      <th>6</th>\n",
       "      <td>9</td>\n",
       "      <td>2.397895</td>\n",
       "      <td>Litecoin</td>\n",
       "    </tr>\n",
       "    <tr>\n",
       "      <th>12</th>\n",
       "      <td>10</td>\n",
       "      <td>1.098612</td>\n",
       "      <td>Maker</td>\n",
       "    </tr>\n",
       "    <tr>\n",
       "      <th>7</th>\n",
       "      <td>11</td>\n",
       "      <td>1.609438</td>\n",
       "      <td>Monero</td>\n",
       "    </tr>\n",
       "    <tr>\n",
       "      <th>9</th>\n",
       "      <td>12</td>\n",
       "      <td>2.079442</td>\n",
       "      <td>Stellar</td>\n",
       "    </tr>\n",
       "    <tr>\n",
       "      <th>8</th>\n",
       "      <td>13</td>\n",
       "      <td>1.791759</td>\n",
       "      <td>TRON</td>\n",
       "    </tr>\n",
       "  </tbody>\n",
       "</table>\n",
       "</div>"
      ],
      "text/plain": [
       "    Asset_ID    Weight        Asset_Name\n",
       "1          0  4.304065      Binance Coin\n",
       "2          1  6.779922           Bitcoin\n",
       "0          2  2.397895      Bitcoin Cash\n",
       "10         3  4.406719           Cardano\n",
       "13         4  3.555348          Dogecoin\n",
       "3          5  1.386294            EOS.IO\n",
       "5          6  5.894403          Ethereum\n",
       "4          7  2.079442  Ethereum Classic\n",
       "11         8  1.098612              IOTA\n",
       "6          9  2.397895          Litecoin\n",
       "12        10  1.098612             Maker\n",
       "7         11  1.609438            Monero\n",
       "9         12  2.079442           Stellar\n",
       "8         13  1.791759              TRON"
      ]
     },
     "execution_count": 3,
     "metadata": {},
     "output_type": "execute_result"
    }
   ],
   "source": [
    "df_asset_details = pd.read_csv(ASSET_DETAILS_CSV).sort_values(\"Asset_ID\")\n",
    "df_asset_details"
   ]
  },
  {
   "cell_type": "markdown",
   "id": "6541dcbb",
   "metadata": {
    "papermill": {
     "duration": 0.009878,
     "end_time": "2021-11-11T14:34:06.935939",
     "exception": false,
     "start_time": "2021-11-11T14:34:06.926061",
     "status": "completed"
    },
    "tags": []
   },
   "source": [
    "# Training"
   ]
  },
  {
   "cell_type": "markdown",
   "id": "c59a5779",
   "metadata": {
    "papermill": {
     "duration": 0.009708,
     "end_time": "2021-11-11T14:34:06.955479",
     "exception": false,
     "start_time": "2021-11-11T14:34:06.945771",
     "status": "completed"
    },
    "tags": []
   },
   "source": [
    "## Utility functions to train a model for one asset"
   ]
  },
  {
   "cell_type": "code",
   "execution_count": 4,
   "id": "b43fe35e",
   "metadata": {
    "execution": {
     "iopub.execute_input": "2021-11-11T14:34:06.990070Z",
     "iopub.status.busy": "2021-11-11T14:34:06.989547Z",
     "iopub.status.idle": "2021-11-11T14:34:06.993125Z",
     "shell.execute_reply": "2021-11-11T14:34:06.992730Z",
     "shell.execute_reply.started": "2021-11-11T14:22:14.658041Z"
    },
    "papermill": {
     "duration": 0.027467,
     "end_time": "2021-11-11T14:34:06.993228",
     "exception": false,
     "start_time": "2021-11-11T14:34:06.965761",
     "status": "completed"
    },
    "tags": []
   },
   "outputs": [],
   "source": [
    "from scipy.stats import pearsonr\n",
    "from sklearn.model_selection import train_test_split\n",
    "# Two new features from the competition tutorial\n",
    "def upper_shadow(df):\n",
    "    return df['High'] - np.maximum(df['Close'], df['Open'])\n",
    "\n",
    "def lower_shadow(df):\n",
    "    return np.minimum(df['Close'], df['Open']) - df['Low']\n",
    "\n",
    "# A utility function to build features from the original df\n",
    "# It works for rows to, so we can reutilize it.\n",
    "def get_features(df):\n",
    "    df_feat = df[['Count', 'Open', 'High', 'Low', 'Close', 'Volume', 'VWAP']].copy()\n",
    "    df_feat['upper_Shadow'] = upper_shadow(df_feat)\n",
    "    df_feat['lower_Shadow'] = lower_shadow(df_feat)\n",
    "    df_feat[\"high_div_low\"] = df_feat[\"High\"] / df_feat[\"Low\"]\n",
    "    #df_feat[\"open_sub_close\"] = df_feat[\"Open\"] - df_feat[\"Close\"]\n",
    "    df_feat['trade']=df_feat['Close']-df_feat['Open']\n",
    "    df_feat['gtrade']=df_feat['trade']/df_feat['Count']\n",
    "    df_feat['shadow1']=df_feat['trade']/df_feat['Volume']\n",
    "    #df_feat['shadow2']=df_feat['upper_Shadow']/df['Low']\n",
    "    df_feat['shadow3']=df_feat['upper_Shadow']/df['Volume']\n",
    "    #df_feat['shadow4']=df_feat['lower_Shadow']/df['High']\n",
    "    df_feat['shadow5']=df_feat['lower_Shadow']/df['Volume']\n",
    "    return df_feat\n",
    "def log(model,X_train, X_valid, y_train, y_valid,train_split=1.0):\n",
    "    if train_split > 0:\n",
    "        X_train=X_train[:int(train_split*X_train.shape[0])]\n",
    "        y_train=y_train[:int(train_split*X_train.shape[0])]\n",
    "    \n",
    "        pred=model.predict(X_train)\n",
    "        print('Training :- ')\n",
    "        print(f'MSE : {np.mean((y_train-pred)**2)}')\n",
    "        print(f'CV : {pearsonr(pred,y_train)[0]}')\n",
    "    pred=model.predict(X_valid)\n",
    "    print('Validation :- ')\n",
    "    print(f'MSE : {np.mean((y_valid-pred)**2)}')\n",
    "    print(f'CV : {pearsonr(pred,y_valid)[0]}')\n",
    "\n",
    "def get_Xy_and_model_for_asset(df_train, asset_id):\n",
    "    df = df_train[df_train[\"Asset_ID\"] == asset_id]\n",
    "   \n",
    "    # TODO: Try different features here!\n",
    "    df_proc = get_features(df)\n",
    "    df_proc['y'] = df['Target']\n",
    "    df_proc = df_proc.dropna(how=\"any\")\n",
    "    \n",
    "    X = df_proc.drop(\"y\", axis=1)\n",
    "    y = df_proc[\"y\"]\n",
    "    X_train, X_test, y_train, y_test = train_test_split(X, y, test_size=0.33, random_state=42)\n",
    "    # TODO: Try different models here!\n",
    "    model = LGBMRegressor(n_estimators=1500,num_leaves=700,learning_rate=0.09)\n",
    "    model.fit(X_train, y_train)\n",
    "    print('[Finished Training] evaluating')\n",
    "    log(model,X_train, X_test, y_train, y_test,0.0)\n",
    "    \n",
    "    \n",
    "    return X, y, model"
   ]
  },
  {
   "cell_type": "markdown",
   "id": "8467d59e",
   "metadata": {
    "papermill": {
     "duration": 0.009992,
     "end_time": "2021-11-11T14:34:07.013416",
     "exception": false,
     "start_time": "2021-11-11T14:34:07.003424",
     "status": "completed"
    },
    "tags": []
   },
   "source": [
    "## Loop over all assets"
   ]
  },
  {
   "cell_type": "code",
   "execution_count": 5,
   "id": "1874af53",
   "metadata": {
    "execution": {
     "iopub.execute_input": "2021-11-11T14:34:07.040119Z",
     "iopub.status.busy": "2021-11-11T14:34:07.039144Z",
     "iopub.status.idle": "2021-11-11T15:20:48.049434Z",
     "shell.execute_reply": "2021-11-11T15:20:48.050196Z"
    },
    "papermill": {
     "duration": 2801.02703,
     "end_time": "2021-11-11T15:20:48.050483",
     "exception": false,
     "start_time": "2021-11-11T14:34:07.023453",
     "status": "completed"
    },
    "tags": []
   },
   "outputs": [
    {
     "name": "stdout",
     "output_type": "stream",
     "text": [
      "Training model for Binance Coin     (ID=0 )\n",
      "[Finished Training] evaluating\n",
      "Validation :- \n",
      "MSE : 3.210707062999415e-05\n",
      "CV : 0.058383789318573416\n",
      "Training model for Bitcoin          (ID=1 )\n",
      "[Finished Training] evaluating\n",
      "Validation :- \n",
      "MSE : 4.135510510165544e-06\n",
      "CV : 0.1196698213099989\n",
      "Training model for Bitcoin Cash     (ID=2 )\n",
      "[Finished Training] evaluating\n",
      "Validation :- \n",
      "MSE : 4.68995497741847e-05\n",
      "CV : 0.07744650727432165\n",
      "Training model for Cardano          (ID=3 )\n",
      "[Finished Training] evaluating\n",
      "Validation :- \n",
      "MSE : 2.1129872847109772e-05\n",
      "CV : 0.06950121312370172\n",
      "Training model for Dogecoin         (ID=4 )\n",
      "[Finished Training] evaluating\n",
      "Validation :- \n",
      "MSE : 7.270779763979233e-05\n",
      "CV : 0.09513358055549055\n",
      "Training model for EOS.IO           (ID=5 )\n",
      "[Finished Training] evaluating\n",
      "Validation :- \n",
      "MSE : 2.4185451795343348e-05\n",
      "CV : 0.07854920452595515\n",
      "Training model for Ethereum         (ID=6 )\n",
      "[Finished Training] evaluating\n",
      "Validation :- \n",
      "MSE : 6.338275611618649e-06\n",
      "CV : 0.12220141810608545\n",
      "Training model for Ethereum Classic (ID=7 )\n",
      "[Finished Training] evaluating\n",
      "Validation :- \n",
      "MSE : 8.570805080160399e-05\n",
      "CV : 0.06283225903859296\n",
      "Training model for IOTA             (ID=8 )\n",
      "[Finished Training] evaluating\n",
      "Validation :- \n",
      "MSE : 6.719433175917992e-05\n",
      "CV : 0.08399941115984506\n",
      "Training model for Litecoin         (ID=9 )\n",
      "[Finished Training] evaluating\n",
      "Validation :- \n",
      "MSE : 1.309605600394904e-05\n",
      "CV : 0.09089285896191247\n",
      "Training model for Maker            (ID=10)\n",
      "[Finished Training] evaluating\n",
      "Validation :- \n",
      "MSE : 3.880568989961353e-05\n",
      "CV : 0.08377890643440553\n",
      "Training model for Monero           (ID=11)\n",
      "[Finished Training] evaluating\n",
      "Validation :- \n",
      "MSE : 4.620145879042583e-05\n",
      "CV : 0.08094352602257457\n",
      "Training model for Stellar          (ID=12)\n",
      "[Finished Training] evaluating\n",
      "Validation :- \n",
      "MSE : 2.818298062468592e-05\n",
      "CV : 0.09943703683598681\n",
      "Training model for TRON             (ID=13)\n",
      "[Finished Training] evaluating\n",
      "Validation :- \n",
      "MSE : 2.575756799015183e-05\n",
      "CV : 0.06549495945158752\n"
     ]
    }
   ],
   "source": [
    "Xs = {}\n",
    "ys = {}\n",
    "models = {}\n",
    "\n",
    "for asset_id, asset_name in zip(df_asset_details['Asset_ID'], df_asset_details['Asset_Name']):\n",
    "    print(f\"Training model for {asset_name:<16} (ID={asset_id:<2})\")\n",
    "    X, y, model = get_Xy_and_model_for_asset(df_train, asset_id)    \n",
    "    Xs[asset_id], ys[asset_id], models[asset_id] = X, y, model"
   ]
  },
  {
   "cell_type": "code",
   "execution_count": 6,
   "id": "6b57631e",
   "metadata": {
    "execution": {
     "iopub.execute_input": "2021-11-11T15:20:48.139397Z",
     "iopub.status.busy": "2021-11-11T15:20:48.138504Z",
     "iopub.status.idle": "2021-11-11T15:20:48.160890Z",
     "shell.execute_reply": "2021-11-11T15:20:48.162022Z",
     "shell.execute_reply.started": "2021-11-11T14:01:15.651513Z"
    },
    "papermill": {
     "duration": 0.080279,
     "end_time": "2021-11-11T15:20:48.162412",
     "exception": false,
     "start_time": "2021-11-11T15:20:48.082133",
     "status": "completed"
    },
    "tags": []
   },
   "outputs": [
    {
     "data": {
      "text/plain": [
       "-0.0007695276382153975"
      ]
     },
     "execution_count": 6,
     "metadata": {},
     "output_type": "execute_result"
    }
   ],
   "source": [
    "# Check the model interface\n",
    "x = get_features(df_train.iloc[1])\n",
    "y_pred = models[0].predict([x])\n",
    "y_pred[0]"
   ]
  },
  {
   "cell_type": "markdown",
   "id": "0786be05",
   "metadata": {
    "execution": {
     "iopub.status.busy": "2021-11-02T20:57:49.349459Z",
     "iopub.status.idle": "2021-11-02T20:57:49.349757Z",
     "shell.execute_reply": "2021-11-02T20:57:49.349613Z",
     "shell.execute_reply.started": "2021-11-02T20:57:49.349596Z"
    },
    "papermill": {
     "duration": 0.03513,
     "end_time": "2021-11-11T15:20:48.233864",
     "exception": false,
     "start_time": "2021-11-11T15:20:48.198734",
     "status": "completed"
    },
    "tags": []
   },
   "source": [
    "# Predict & submit\n",
    "\n",
    "References: [Detailed API Introduction](https://www.kaggle.com/sohier/detailed-api-introduction)\n",
    "\n",
    "Something that helped me understand this iterator was adding a pdb checkpoint inside of the for loop:\n",
    "\n",
    "```python\n",
    "import pdb; pdb.set_trace()\n",
    "```\n",
    "\n",
    "See [Python Debugging With Pdb](https://realpython.com/python-debugging-pdb/) if you want to use it and you don't know how to.\n"
   ]
  },
  {
   "cell_type": "code",
   "execution_count": 7,
   "id": "e15a4e17",
   "metadata": {
    "execution": {
     "iopub.execute_input": "2021-11-11T15:20:48.305079Z",
     "iopub.status.busy": "2021-11-11T15:20:48.304149Z",
     "iopub.status.idle": "2021-11-11T15:20:48.960035Z",
     "shell.execute_reply": "2021-11-11T15:20:48.960962Z",
     "shell.execute_reply.started": "2021-11-11T14:01:15.653449Z"
    },
    "papermill": {
     "duration": 0.696092,
     "end_time": "2021-11-11T15:20:48.961151",
     "exception": false,
     "start_time": "2021-11-11T15:20:48.265059",
     "status": "completed"
    },
    "tags": []
   },
   "outputs": [
    {
     "name": "stdout",
     "output_type": "stream",
     "text": [
      "This version of the API is not optimized and should not be used to estimate the runtime of your code on the hidden test set.\n"
     ]
    },
    {
     "data": {
      "text/plain": [
       "Count           1.201000e+03\n",
       "Open            1.478556e+00\n",
       "High            1.486030e+00\n",
       "Low             1.478000e+00\n",
       "Close           1.483681e+00\n",
       "Volume          6.547996e+05\n",
       "VWAP            1.481439e+00\n",
       "upper_Shadow    2.348667e-03\n",
       "lower_Shadow    5.558333e-04\n",
       "high_div_low    1.005433e+00\n",
       "trade           5.125500e-03\n",
       "gtrade          4.267694e-06\n",
       "shadow1         7.827586e-09\n",
       "shadow3         3.586848e-09\n",
       "shadow5         8.488603e-10\n",
       "Name: 0, dtype: float64"
      ]
     },
     "metadata": {},
     "output_type": "display_data"
    },
    {
     "data": {
      "text/html": [
       "<div>\n",
       "<style scoped>\n",
       "    .dataframe tbody tr th:only-of-type {\n",
       "        vertical-align: middle;\n",
       "    }\n",
       "\n",
       "    .dataframe tbody tr th {\n",
       "        vertical-align: top;\n",
       "    }\n",
       "\n",
       "    .dataframe thead th {\n",
       "        text-align: right;\n",
       "    }\n",
       "</style>\n",
       "<table border=\"1\" class=\"dataframe\">\n",
       "  <thead>\n",
       "    <tr style=\"text-align: right;\">\n",
       "      <th></th>\n",
       "      <th>row_id</th>\n",
       "      <th>Target</th>\n",
       "    </tr>\n",
       "  </thead>\n",
       "  <tbody>\n",
       "    <tr>\n",
       "      <th>0</th>\n",
       "      <td>0</td>\n",
       "      <td>-0.000033</td>\n",
       "    </tr>\n",
       "    <tr>\n",
       "      <th>1</th>\n",
       "      <td>1</td>\n",
       "      <td>-0.004612</td>\n",
       "    </tr>\n",
       "    <tr>\n",
       "      <th>2</th>\n",
       "      <td>2</td>\n",
       "      <td>-0.000384</td>\n",
       "    </tr>\n",
       "    <tr>\n",
       "      <th>3</th>\n",
       "      <td>3</td>\n",
       "      <td>-0.000277</td>\n",
       "    </tr>\n",
       "    <tr>\n",
       "      <th>4</th>\n",
       "      <td>4</td>\n",
       "      <td>0.000394</td>\n",
       "    </tr>\n",
       "    <tr>\n",
       "      <th>5</th>\n",
       "      <td>5</td>\n",
       "      <td>0.000230</td>\n",
       "    </tr>\n",
       "    <tr>\n",
       "      <th>6</th>\n",
       "      <td>6</td>\n",
       "      <td>-0.000631</td>\n",
       "    </tr>\n",
       "    <tr>\n",
       "      <th>7</th>\n",
       "      <td>7</td>\n",
       "      <td>0.000552</td>\n",
       "    </tr>\n",
       "    <tr>\n",
       "      <th>8</th>\n",
       "      <td>8</td>\n",
       "      <td>-0.000716</td>\n",
       "    </tr>\n",
       "    <tr>\n",
       "      <th>9</th>\n",
       "      <td>9</td>\n",
       "      <td>-0.000153</td>\n",
       "    </tr>\n",
       "    <tr>\n",
       "      <th>10</th>\n",
       "      <td>10</td>\n",
       "      <td>0.001161</td>\n",
       "    </tr>\n",
       "    <tr>\n",
       "      <th>11</th>\n",
       "      <td>11</td>\n",
       "      <td>-0.000154</td>\n",
       "    </tr>\n",
       "    <tr>\n",
       "      <th>12</th>\n",
       "      <td>12</td>\n",
       "      <td>-0.001055</td>\n",
       "    </tr>\n",
       "    <tr>\n",
       "      <th>13</th>\n",
       "      <td>13</td>\n",
       "      <td>-0.000144</td>\n",
       "    </tr>\n",
       "  </tbody>\n",
       "</table>\n",
       "</div>"
      ],
      "text/plain": [
       "    row_id    Target\n",
       "0        0 -0.000033\n",
       "1        1 -0.004612\n",
       "2        2 -0.000384\n",
       "3        3 -0.000277\n",
       "4        4  0.000394\n",
       "5        5  0.000230\n",
       "6        6 -0.000631\n",
       "7        7  0.000552\n",
       "8        8 -0.000716\n",
       "9        9 -0.000153\n",
       "10      10  0.001161\n",
       "11      11 -0.000154\n",
       "12      12 -0.001055\n",
       "13      13 -0.000144"
      ]
     },
     "metadata": {},
     "output_type": "display_data"
    }
   ],
   "source": [
    "env = gresearch_crypto.make_env()\n",
    "iter_test = env.iter_test()\n",
    "\n",
    "for i, (df_test, df_pred) in enumerate(iter_test):\n",
    "    for j , row in df_test.iterrows():\n",
    "        \n",
    "        model = models[row['Asset_ID']]\n",
    "        x_test = get_features(row)\n",
    "        y_pred = model.predict([x_test])[0]\n",
    "        \n",
    "        df_pred.loc[df_pred['row_id'] == row['row_id'], 'Target'] = y_pred\n",
    "        \n",
    "        \n",
    "        # Print just one sample row to get a feeling of what it looks like\n",
    "        if i == 0 and j == 0:\n",
    "            display(x_test)\n",
    "\n",
    "    # Display the first prediction dataframe\n",
    "    if i == 0:\n",
    "        display(df_pred)\n",
    "\n",
    "    # Send submissions\n",
    "    env.predict(df_pred)"
   ]
  },
  {
   "cell_type": "code",
   "execution_count": null,
   "id": "bd700093",
   "metadata": {
    "papermill": {
     "duration": 0.018671,
     "end_time": "2021-11-11T15:20:49.000960",
     "exception": false,
     "start_time": "2021-11-11T15:20:48.982289",
     "status": "completed"
    },
    "tags": []
   },
   "outputs": [],
   "source": []
  },
  {
   "cell_type": "markdown",
   "id": "6b8c7293",
   "metadata": {
    "papermill": {
     "duration": 0.018846,
     "end_time": "2021-11-11T15:20:49.038660",
     "exception": false,
     "start_time": "2021-11-11T15:20:49.019814",
     "status": "completed"
    },
    "tags": []
   },
   "source": []
  }
 ],
 "metadata": {
  "kernelspec": {
   "display_name": "Python 3",
   "language": "python",
   "name": "python3"
  },
  "language_info": {
   "codemirror_mode": {
    "name": "ipython",
    "version": 3
   },
   "file_extension": ".py",
   "mimetype": "text/x-python",
   "name": "python",
   "nbconvert_exporter": "python",
   "pygments_lexer": "ipython3",
   "version": "3.7.10"
  },
  "papermill": {
   "default_parameters": {},
   "duration": 2883.12056,
   "end_time": "2021-11-11T15:20:50.172640",
   "environment_variables": {},
   "exception": null,
   "input_path": "__notebook__.ipynb",
   "output_path": "__notebook__.ipynb",
   "parameters": {},
   "start_time": "2021-11-11T14:32:47.052080",
   "version": "2.3.3"
  }
 },
 "nbformat": 4,
 "nbformat_minor": 5
}
